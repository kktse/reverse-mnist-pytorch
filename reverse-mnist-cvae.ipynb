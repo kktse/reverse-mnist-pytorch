{
 "cells": [
  {
   "cell_type": "markdown",
   "metadata": {},
   "source": [
    "# Reverse MNIST with deconvolutional neural networks and PyTorch\n",
    "\n",
    "A simple deconvolutional network to re-generate the convolutional network to re-generate MNIST digits using PyTorch."
   ]
  },
  {
   "cell_type": "code",
   "execution_count": null,
   "metadata": {},
   "outputs": [],
   "source": [
    "import random\n",
    "import matplotlib.pyplot as plt\n",
    "import torch\n",
    "import torch.utils.data\n",
    "import torchvision"
   ]
  },
  {
   "cell_type": "markdown",
   "metadata": {},
   "source": [
    "## Setup GPU\n",
    "\n",
    "Specific versions of PyTorch are needed depending on your system configuration.\n",
    "\n",
    "* For GPU training on devices supporting using the ROCM backend, use `requirements/rocm.txt`\n",
    "* For GPU training on devices supporting using the MPS backend (ie. Apple Metal), use `requirements/cpu.txt`\n",
    "* For CPU training, use `requirements/cpu.txt`"
   ]
  },
  {
   "cell_type": "code",
   "execution_count": null,
   "metadata": {},
   "outputs": [],
   "source": [
    "if torch.cuda.is_available():\n",
    "    backend = \"cuda\"\n",
    "elif torch.backends.mps.is_available():\n",
    "    backend = \"mps\"\n",
    "else:\n",
    "    backend = \"cpu\"\n",
    "\n",
    "device = torch.device(backend)\n",
    "device"
   ]
  },
  {
   "cell_type": "markdown",
   "metadata": {},
   "source": [
    "## CVAE\n",
    "https://github.com/lyeoni/pytorch-mnist-CVAE/blob/master/pytorch-mnist-CVAE.ipynb\n",
    "https://www.tensorflow.org/tutorials/generative/cvae"
   ]
  },
  {
   "cell_type": "code",
   "execution_count": null,
   "metadata": {},
   "outputs": [],
   "source": [
    "class Encoder(torch.nn.Module):\n",
    "    def __init__(self, latent_dim):\n",
    "        super(Encoder, self).__init__()\n",
    "        self.conv1 = torch.nn.Conv2d(1, 32, kernel_size=3, stride=2, padding=1)\n",
    "        self.conv2 = torch.nn.Conv2d(32, 64, kernel_size=3, stride=2, padding=1)\n",
    "        self.fc1 = torch.nn.Linear(64 * 7 * 7 + 10, 256)\n",
    "        self.fc_mu = torch.nn.Linear(256, latent_dim)\n",
    "        self.fc_logvar = torch.nn.Linear(256, latent_dim)\n",
    "\n",
    "    def forward(self, x, labels):\n",
    "        x = torch.nn.functional.relu(self.conv1(x))\n",
    "        x = torch.nn.functional.relu(self.conv2(x))\n",
    "        x = x.view(x.size(0), -1)\n",
    "        x = torch.cat((x, labels), dim=1)\n",
    "        h = torch.nn.functional.relu(self.fc1(x))  # Latent vector\n",
    "        mu = self.fc_mu(h)\n",
    "        logvar = self.fc_logvar(h)\n",
    "        return mu, logvar\n",
    "\n",
    "\n",
    "class Decoder(torch.nn.Module):\n",
    "    def __init__(self, latent_dim):\n",
    "        super(Decoder, self).__init__()\n",
    "        self.fc1 = torch.nn.Linear(latent_dim, 256)\n",
    "        self.fc2 = torch.nn.Linear(256, 64 * 7 * 7)\n",
    "        self.deconv1 = torch.nn.ConvTranspose2D(\n",
    "            64, 32, kernel_size=3, stride=2, padding=1\n",
    "        )\n",
    "        self.deconv2 = torch.nn.ConvTranspose2D(\n",
    "            32, 1, kernel_size=3, stride=2, padding=1\n",
    "        )\n",
    "\n",
    "    def forward(self, z, labels):\n",
    "        z = torch.cat((z, labels), dim=1)\n",
    "        h = torch.nn.functional.relu(self.fc1(z))\n",
    "        h = torch.nn.functional.relu(self.fc2(h))\n",
    "        h = h.view(h.size(0), 64, 7, 7)\n",
    "        h = torch.nn.functional.relu(self.deconv1(h))\n",
    "        x = torch.sigmoid(self.decov2(h))\n",
    "        return x\n",
    "\n",
    "\n",
    "class CVAE(torch.nn.Module):\n",
    "    def __init__(self, latent_dim):\n",
    "        super(CVAE, self).__init__()\n",
    "        self.encoder = Encoder(latent_dim)\n",
    "        self.decoder = Decoder(latent_dim)\n",
    "\n",
    "    def reparameterize(self, mu, logvar):\n",
    "        std = torch.exp(0.5 * logvar)\n",
    "        eps = torch.randn_like(std)\n",
    "        return mu + eps * std\n",
    "\n",
    "    def forward(self, x, labels):\n",
    "        mu, logvar = self.encoder(x, labels)\n",
    "        z = self.reparameterize(mu, logvar)\n",
    "        x_pred = self.decoder(z, labels)\n",
    "        return x_pred, mu, logvar"
   ]
  }
 ],
 "metadata": {
  "kernelspec": {
   "display_name": "venv",
   "language": "python",
   "name": "python3"
  },
  "language_info": {
   "codemirror_mode": {
    "name": "ipython",
    "version": 3
   },
   "file_extension": ".py",
   "mimetype": "text/x-python",
   "name": "python",
   "nbconvert_exporter": "python",
   "pygments_lexer": "ipython3",
   "version": "3.12.1"
  }
 },
 "nbformat": 4,
 "nbformat_minor": 2
}
