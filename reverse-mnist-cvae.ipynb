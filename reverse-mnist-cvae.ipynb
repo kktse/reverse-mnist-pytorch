{
 "cells": [
  {
   "cell_type": "markdown",
   "metadata": {},
   "source": [
    "# Reverse MNIST with deconvolutional neural networks and PyTorch\n",
    "\n",
    "A simple deconvolutional network to re-generate the convolutional network to re-generate MNIST digits using PyTorch."
   ]
  },
  {
   "cell_type": "code",
   "execution_count": null,
   "metadata": {},
   "outputs": [],
   "source": [
    "import random\n",
    "import matplotlib.pyplot as plt\n",
    "import torch\n",
    "import torch.utils.data\n",
    "import torchvision"
   ]
  },
  {
   "cell_type": "markdown",
   "metadata": {},
   "source": [
    "## Setup GPU\n",
    "\n",
    "Specific versions of PyTorch are needed depending on your system configuration.\n",
    "\n",
    "* For GPU training on devices supporting using the ROCM backend, use `requirements/rocm.txt`\n",
    "* For GPU training on devices supporting using the MPS backend (ie. Apple Metal), use `requirements/cpu.txt`\n",
    "* For CPU training, use `requirements/cpu.txt`"
   ]
  },
  {
   "cell_type": "code",
   "execution_count": null,
   "metadata": {},
   "outputs": [],
   "source": [
    "if torch.cuda.is_available():\n",
    "    backend = \"cuda\"\n",
    "elif torch.backends.mps.is_available():\n",
    "    backend = \"mps\"\n",
    "else:\n",
    "    backend = \"cpu\"\n",
    "\n",
    "device = torch.device(backend)\n",
    "device"
   ]
  },
  {
   "cell_type": "markdown",
   "metadata": {},
   "source": [
    "## CVAE\n",
    "https://github.com/lyeoni/pytorch-mnist-CVAE/blob/master/pytorch-mnist-CVAE.ipynb\n",
    "https://www.tensorflow.org/tutorials/generative/cvae"
   ]
  },
  {
   "cell_type": "code",
   "execution_count": null,
   "metadata": {},
   "outputs": [],
   "source": [
    "class Encoder(torch.nn.Module):\n",
    "    def __init__(self, latent_dim):\n",
    "        super(Encoder, self).__init__()\n",
    "        self.conv1 = torch.nn.Conv2d(1, 32, kernel_size=3, stride=2, padding=1)\n",
    "        self.conv2 = torch.nn.Conv2d(32, 64, kernel_size=3, stride=2, padding=1)\n",
    "        self.fc1 = torch.nn.Linear(64*7*7 + 10, 256)\n",
    "        self.fc_mu = torch.nn.Linear(256, latent_dim)\n",
    "        self.fc_logvar = torch.nn.Linear(256, latent_dim)\n",
    "\n",
    "    def forwrad(self, x, labels):\n",
    "        x = torch.nn.functional.relu(self.conv1(x))\n",
    "        x = torch.nn.functional.relu(self.conv2(x))\n",
    "        x = x.view(x.size(0), -1)\n",
    "        x = torch.cat((x, labels), dim=1)\n",
    "        x = torch.nn.functional.relu(self.fc1(x))\n",
    "\n",
    "\n",
    "class AutoencoderCVAE(torch.nn.Module):\n",
    "    def __init__(self):\n",
    "        super(AutoencoderCVAE, self).__init__()\n",
    "        self.encoder = torch.nn.Sequential(\n",
    "            torch.nn.Conv2d(1, 32, 3, stride=2, padding=1),\n",
    "            torch.nn.ReLU(),\n",
    "            torch.nn.Conv2d(32, 64, 3, stride=2, padding=1),\n",
    "            torch.nn.ReLU(),\n",
    "        )\n",
    "\n",
    "        self.fc_mu = torch.nn.Linear()\n",
    "        self.fc_logvar = torch.nn.Linear()\n",
    "        self.fc_decode = torch.nn.Linear()\n",
    "\n",
    "\n",
    "    def forward(self, x):\n",
    "        x = torch.nn.functional.relu(self.fc1(x)) \n",
    "        x = torch.nn.functional.relu(self.fc2(x))\n",
    "        x = x.view(-1, 64, 7, 7)  # Reshape to an n-length 7x7 grid of 64 channels\n",
    "        x = torch.nn.functional.relu(self.deconv1(x))\n",
    "        x = torch.nn.functional.sigmoid(self.deconv2(x))\n",
    "\n",
    "        return x"
   ]
  }
 ],
 "metadata": {
  "kernelspec": {
   "display_name": "venv",
   "language": "python",
   "name": "python3"
  },
  "language_info": {
   "codemirror_mode": {
    "name": "ipython",
    "version": 3
   },
   "file_extension": ".py",
   "mimetype": "text/x-python",
   "name": "python",
   "nbconvert_exporter": "python",
   "pygments_lexer": "ipython3",
   "version": "3.12.1"
  }
 },
 "nbformat": 4,
 "nbformat_minor": 2
}
