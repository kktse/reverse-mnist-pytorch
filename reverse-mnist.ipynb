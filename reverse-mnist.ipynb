{
 "cells": [
  {
   "cell_type": "markdown",
   "metadata": {},
   "source": [
    "# Reverse MNIST with deconvolutional neural networks and PyTorch\n",
    "\n",
    "A simple deconvolutional network to re-generate the convolutional network to re-generate MNIST digits using PyTorch."
   ]
  },
  {
   "cell_type": "code",
   "execution_count": 1,
   "metadata": {
    "metadata": {}
   },
   "outputs": [
    {
     "name": "stderr",
     "output_type": "stream",
     "text": [
      "amdgpu.ids: No such file or directory\n"
     ]
    }
   ],
   "source": [
    "import random\n",
    "import matplotlib.pyplot as plt\n",
    "import torch\n",
    "import torch.utils.data\n",
    "import torchvision"
   ]
  },
  {
   "cell_type": "markdown",
   "metadata": {},
   "source": [
    "## Setup GPU\n",
    "\n",
    "Specific versions of PyTorch are needed depending on your system configuration.\n",
    "\n",
    "* For GPU training on devices supporting using the ROCM backend, use `requirements/rocm.txt`\n",
    "* For GPU training on devices supporting using the MPS backend (ie. Apple Metal), use `requirements/cpu.txt`\n",
    "* For CPU training, use `requirements/cpu.txt`"
   ]
  },
  {
   "cell_type": "code",
   "execution_count": 2,
   "metadata": {
    "metadata": {}
   },
   "outputs": [
    {
     "data": {
      "text/plain": [
       "device(type='cuda')"
      ]
     },
     "execution_count": 2,
     "metadata": {},
     "output_type": "execute_result"
    }
   ],
   "source": [
    "if torch.cuda.is_available():\n",
    "    backend = \"cuda\"\n",
    "elif torch.backends.mps.is_available():\n",
    "    backend = \"mps\"\n",
    "else:\n",
    "    backend = \"cpu\"\n",
    "\n",
    "device = torch.device(backend)\n",
    "device"
   ]
  },
  {
   "cell_type": "markdown",
   "metadata": {},
   "source": [
    "## Understand the convolution transposed operator\n",
    "\n",
    "Before we begin, let us understand how the `ConvTranspose2d` operator\n",
    "intuitively works. Set up a 2x2 kernel and see how it can 2x the spatial\n",
    "dimensions of a 2x2 input.\n",
    "\n",
    "Reference: [Apply a 2D Transposed Convolution Operation in PyTorch](https://www.geeksforgeeks.org/apply-a-2d-transposed-convolution-operation-in-pytorch/)"
   ]
  },
  {
   "cell_type": "code",
   "execution_count": 3,
   "metadata": {
    "metadata": {}
   },
   "outputs": [
    {
     "data": {
      "text/plain": [
       "tensor([[[[ 0.,  0.,  4.,  1.],\n",
       "          [ 0.,  0.,  2.,  3.],\n",
       "          [ 8.,  2., 12.,  3.],\n",
       "          [ 4.,  6.,  6.,  9.]]]], grad_fn=<ConvolutionBackward0>)"
      ]
     },
     "execution_count": 3,
     "metadata": {},
     "output_type": "execute_result"
    }
   ],
   "source": [
    "# Input\n",
    "Input = torch.tensor([[0.0, 1.0], [2.0, 3.0]])\n",
    "# Kernel\n",
    "Kernel = torch.tensor([[4.0, 1.0], [2.0, 3.0]])\n",
    "\n",
    "# Redefine the shape in 4 dimension\n",
    "Input = Input.reshape(1, 1, 2, 2)\n",
    "Kernel = Kernel.reshape(1, 1, 2, 2)\n",
    "\n",
    "# Transpose convolution Layer\n",
    "Transpose = torch.nn.ConvTranspose2d(\n",
    "    in_channels=1, out_channels=1, kernel_size=2, stride=2, padding=0, bias=False\n",
    ")\n",
    "\n",
    "# Initialize Kernel\n",
    "Transpose.weight.data = Kernel\n",
    "\n",
    "# Output value\n",
    "Transpose(Input)"
   ]
  },
  {
   "cell_type": "code",
   "execution_count": 4,
   "metadata": {
    "metadata": {}
   },
   "outputs": [
    {
     "data": {
      "text/plain": [
       "tensor([[[[0., 1.],\n",
       "          [2., 3.]]]])"
      ]
     },
     "execution_count": 4,
     "metadata": {},
     "output_type": "execute_result"
    }
   ],
   "source": [
    "# Input\n",
    "Input"
   ]
  },
  {
   "cell_type": "markdown",
   "metadata": {},
   "source": [
    "## Define the model\n",
    "\n",
    "Design a simple deconvolutional neural network with four layers.\n",
    "\n",
    "- Layer 1 is a fully-connected layer that accepts a hot-one encoded digit, and expands it to 128 outputs\n",
    "- Layer 2 is a fully-connected layer that accepts 128 inputs and expands it to a flat representation of a 7x7 image with 64 channels per pixel. The choice of a 7x7 image is because 7x2^2 is 28px, the original size of the MNIST image.\n",
    "- Layer 3 is a deconvolutional layer that accepts an 7x7 image with 64 channels per pixel, and upsamples it to a 14x14 image with 32 channels per pixel\n",
    "- Layer 4 is a deconvolutional layer that accepts an 14x14 image with 32 channels per pixel, and upsamples it to a 28x28 image with 1 channel per pixel\n",
    "\n",
    "The arguments in `ConvTranspose2d` results in an exact doubling of the image dimensions. The resulting output size of the `ConvTranspose2d` operator is given by the formula:\n",
    "    \n",
    "\n",
    "$ \\text{output\\_size} = \\text{strides} * (\\text{input\\_size}-1) + \\text{kernel\\_size} - 2*\\text{padding} $\n",
    "\n",
    "References:\n",
    "* [Basic MNIST Example](https://github.com/pytorch/examples/blob/main/mnist/main.py)\n",
    "* [reverse-mnist](https://github.com/fbleibel/reverse-mnist)\n",
    "* [Convolution arithmetic](https://github.com/vdumoulin/conv_arithmetic/tree/master)\n",
    "* [Getting the output shape of deconvolution layer using tf.nn.conv2d_transpose in tensorflow](https://stackoverflow.com/questions/35980044/getting-the-output-shape-of-deconvolution-layer-using-tf-nn-conv2d-transpose-in)\n",
    "\n"
   ]
  },
  {
   "cell_type": "code",
   "execution_count": 5,
   "metadata": {
    "metadata": {}
   },
   "outputs": [],
   "source": [
    "class Net(torch.nn.Module):\n",
    "    def __init__(self):\n",
    "        super(Net, self).__init__()\n",
    "\n",
    "        # Fully connected layers\n",
    "        # - fc1 takes a one-hot array and expands it to 128 nodes\n",
    "        # - fc2 takes the output of fc1 and expands it to an intermediate representation that is 7x7 pixels with 64 channels each\n",
    "        #   - 7x7 is 1/4th the size of the final MNIST image\n",
    "        self.fc1 = torch.nn.Linear(10, 128)\n",
    "        self.fc2 = torch.nn.Linear(128, 7*7*64) \n",
    "\n",
    "        # Deconvolutional layers\n",
    "        # - devonv1 takes a 7x7x64 intermediate represetnation and turns it into a 14x14x32 intermediate representation\n",
    "        # - deconv2 takes a 14x14x32 intermediate representation and turns it into a 28x28x1 output\n",
    "        self.deconv1 = torch.nn.ConvTranspose2d(64, 32, kernel_size=3, stride=2, padding=1, output_padding=1)\n",
    "        self.deconv2 = torch.nn.ConvTranspose2d(32, 1, kernel_size=3, stride=2, padding=1, output_padding=1)\n",
    "\n",
    "\n",
    "    def forward(self, x):\n",
    "        x = torch.nn.functional.relu(self.fc1(x)) \n",
    "        x = torch.nn.functional.relu(self.fc2(x))\n",
    "        x = x.view(-1, 64, 7, 7)  # Reshape to an n-length 7x7 grid of 64 channels\n",
    "        x = torch.nn.functional.relu(self.deconv1(x))\n",
    "        x = torch.nn.functional.sigmoid(self.deconv2(x))\n",
    "\n",
    "        return x"
   ]
  },
  {
   "cell_type": "code",
   "execution_count": 6,
   "metadata": {
    "metadata": {}
   },
   "outputs": [],
   "source": [
    "model = Net().to(device)"
   ]
  },
  {
   "cell_type": "markdown",
   "metadata": {},
   "source": [
    "## Load the MNIST data set\n",
    "\n",
    "Use the built-in MNIST dataset from `torchvision`. The transformation are\n",
    "normalized to the global mean and standard deviation of the dataset. Only the\n",
    "training dataset is used in this example.\n",
    "\n",
    "References: [PyTorch - Training a Classifier](https://pytorch.org/tutorials/beginner/blitz/cifar10_tutorial.html?highlight=mnist)"
   ]
  },
  {
   "cell_type": "code",
   "execution_count": 7,
   "metadata": {
    "metadata": {}
   },
   "outputs": [],
   "source": [
    "transform = torchvision.transforms.Compose(\n",
    "    [\n",
    "        torchvision.transforms.ToTensor(),\n",
    "        torchvision.transforms.Normalize(\n",
    "            (0.1307,), (0.3081,)  # These are the global mean and standard deviations of the MNIST dataset\n",
    "        ),\n",
    "    ]\n",
    ")\n",
    "\n",
    "dataset = torchvision.datasets.MNIST(\n",
    "    root='./data',\n",
    "    train=True,\n",
    "    download=True,\n",
    "    transform=transform,\n",
    ")"
   ]
  },
  {
   "cell_type": "markdown",
   "metadata": {},
   "source": [
    "## Visualize an arbitrary image from the dataset\n",
    "\n",
    "To gain an intuitive appreciation of the dataset, visualize a random digit. We\n",
    "can now clearly see the 28x28 pixel greyscale representation of a handwritten\n",
    "digit."
   ]
  },
  {
   "cell_type": "code",
   "execution_count": 8,
   "metadata": {
    "metadata": {}
   },
   "outputs": [
    {
     "data": {
      "image/png": "[encoded data removed]",
      "text/plain": [
       "<Figure size 640x480 with 1 Axes>"
      ]
     },
     "metadata": {},
     "output_type": "display_data"
    }
   ],
   "source": [
    "image, label = dataset[random.randint(0, len(dataset))]\n",
    "plt.imshow(image.squeeze().numpy(), cmap='gray')\n",
    "plt.title(f\"Digit: {label}\")\n",
    "plt.show()"
   ]
  },
  {
   "cell_type": "markdown",
   "metadata": {},
   "source": [
    "## Prepare the dataset\n",
    "\n",
    "Split the dataset into our training and validation datasets. Here, we split 70%\n",
    "of the data for training purposes.\n",
    "\n",
    "Since I are using a dGPU to train, we set the batch size to something larger\n",
    "than default. Adjust according to your hardware!\n",
    "\n",
    "References: [Solving MNIST using PyTorch](https://www.kaggle.com/code/geekysaint/solving-mnist-using-pytorch)"
   ]
  },
  {
   "cell_type": "code",
   "execution_count": 9,
   "metadata": {
    "metadata": {}
   },
   "outputs": [
    {
     "name": "stdout",
     "output_type": "stream",
     "text": [
      "Total dataset count: 60000\n",
      "Training split ratio: 0.7\n",
      "Training dataset count: 42000\n",
      "Validation dataset count: 18000\n"
     ]
    }
   ],
   "source": [
    "dataset_training_ratio = 0.70\n",
    "dataset_length = len(dataset)\n",
    "dataset_training_length = round(dataset_length * dataset_training_ratio)\n",
    "dataset_validation_length = dataset_length - dataset_training_length\n",
    "\n",
    "print(f\"Total dataset count: {dataset_length}\")\n",
    "print(f\"Training split ratio: {dataset_training_ratio}\")\n",
    "print(f\"Training dataset count: {dataset_training_length}\")\n",
    "print(f\"Validation dataset count: {dataset_validation_length}\")"
   ]
  },
  {
   "cell_type": "code",
   "execution_count": 22,
   "metadata": {
    "metadata": {}
   },
   "outputs": [],
   "source": [
    "batch_size = 1024\n",
    "\n",
    "training_data, validation_data = torch.utils.data.random_split(dataset, [dataset_training_length, dataset_validation_length])\n",
    "training_loader = torch.utils.data.DataLoader(training_data, shuffle=True, batch_size=batch_size)\n",
    "validation_loader = torch.utils.data.DataLoader(validation_data, batch_size=batch_size)"
   ]
  },
  {
   "cell_type": "markdown",
   "metadata": {},
   "source": [
    "## Training\n",
    "\n",
    "We are now ready to set up our training loop. First we define the objective\n",
    "function and the optimization algorithm we want to use in our learning loop.\n",
    "\n",
    "Next, we define our training function. For every item in the training batch,\n",
    "evaluate the model output given the training data and iterate the model\n",
    "parameters in search of the objective.\n",
    "\n",
    "The validation function is similar to the training function, negating any\n",
    "optimization steps.\n",
    "\n",
    "References:\n",
    "* [Training with PyTorch](https://pytorch.org/tutorials/beginner/introyt/trainingyt.html)\n",
    "* [Optimizing Model Parameters](https://pytorch.org/tutorials/beginner/basics/optimization_tutorial.html)"
   ]
  },
  {
   "cell_type": "code",
   "execution_count": 27,
   "metadata": {
    "metadata": {}
   },
   "outputs": [],
   "source": [
    "criterion = torch.nn.MSELoss()\n",
    "optimizer = torch.optim.Adam(model.parameters())\n",
    "\n",
    "# Training function\n",
    "def train(model, train_loader, criterion, optimizer, epoch):\n",
    "    model.train()  # Set the model to training mode\n",
    "    running_loss = 0.0\n",
    "    for batch_idx, (data, target) in enumerate(train_loader):\n",
    "        # Move data and target to GPU\n",
    "        data, target = data.to(device), target.to(device)\n",
    "        optimizer.zero_grad()\n",
    "        \n",
    "        # One-hot encode the target labels\n",
    "        target_one_hot = torch.eye(10, device=device)[target]\n",
    "        output = model(target_one_hot)\n",
    "        \n",
    "        # Calculate loss\n",
    "        loss = criterion(output, data)\n",
    "        loss.backward()\n",
    "        optimizer.step()\n",
    "        \n",
    "        running_loss += loss.item()\n",
    "        \n",
    "        if batch_idx % 100 == 99:  # Print every 100 batches\n",
    "            print(f'Epoch {epoch}, Batch {batch_idx + 1}, Loss: {running_loss / 100:.4f}')\n",
    "            running_loss = 0.0\n",
    "\n",
    "# Validation function\n",
    "def validate(model, val_loader, criterion):\n",
    "    model.eval()\n",
    "    val_loss = 0.0\n",
    "    # Disable gradient calculation to speed up computation\n",
    "    with torch.no_grad():\n",
    "        for data, target in val_loader:\n",
    "            # Move data and target to GPU\n",
    "            data, target = data.to(device), target.to(device)\n",
    "            target_one_hot = torch.eye(10, device=device)[target]\n",
    "            output = model(target_one_hot)\n",
    "            loss = criterion(output, data)\n",
    "            val_loss += loss.item()\n",
    "    \n",
    "    val_loss /= len(val_loader)\n",
    "    print(f'Epoch {epoch} Validation Loss: {val_loss:.4f}')"
   ]
  },
  {
   "cell_type": "markdown",
   "metadata": {},
   "source": [
    "With the training and validation functions defined, we are now ready to train\n",
    "our network. The training loop is configured to loop for three epochs."
   ]
  },
  {
   "cell_type": "code",
   "execution_count": 28,
   "metadata": {
    "metadata": {}
   },
   "outputs": [
    {
     "name": "stdout",
     "output_type": "stream",
     "text": [
      "Epoch 1 Validation Loss: 0.7074\n",
      "Epoch 2 Validation Loss: 0.7075\n",
      "Epoch 3 Validation Loss: 0.7076\n",
      "Epoch 4 Validation Loss: 0.7076\n",
      "Epoch 5 Validation Loss: 0.7073\n"
     ]
    }
   ],
   "source": [
    "num_epochs = 5\n",
    "for epoch in range(1, num_epochs + 1):\n",
    "    train(model, training_loader, criterion, optimizer, epoch)\n",
    "    validate(model, validation_loader, criterion)"
   ]
  },
  {
   "cell_type": "markdown",
   "metadata": {},
   "source": [
    "## Evaluate\n",
    "\n",
    "Use the network to generate images for each digit to visualize the results of\n",
    "the training."
   ]
  },
  {
   "cell_type": "code",
   "execution_count": 29,
   "metadata": {
    "metadata": {}
   },
   "outputs": [
    {
     "data": {
      "image/png": "[encoded data removed]",
      "text/plain": [
       "<Figure size 640x480 with 10 Axes>"
      ]
     },
     "metadata": {},
     "output_type": "display_data"
    }
   ],
   "source": [
    "model.eval()\n",
    "with torch.no_grad():\n",
    "    one_hot_digits = torch.eye(10, device=device)\n",
    "    generated_images = model(one_hot_digits)\n",
    "\n",
    "# Move to CPU and squeeze\n",
    "generated_images = generated_images.cpu().numpy().squeeze()\n",
    "\n",
    "# Plot\n",
    "fig, axes = plt.subplots(2, 5)\n",
    "for i, img in enumerate(generated_images):\n",
    "    ax = axes[i // 5, i % 5]\n",
    "    ax.imshow(img, cmap=\"gray\")\n",
    "    ax.axis(\"off\")\n",
    "\n",
    "plt.tight_layout()\n",
    "plt.show()"
   ]
  },
  {
   "cell_type": "markdown",
   "metadata": {},
   "source": [
    "Just for fun, because we used one-hot encoding for each digit, we can also generate combination of digits!"
   ]
  },
  {
   "cell_type": "code",
   "execution_count": 30,
   "metadata": {
    "metadata": {}
   },
   "outputs": [
    {
     "data": {
      "image/png": "[encoded data removed]",
      "text/plain": [
       "<Figure size 640x480 with 4 Axes>"
      ]
     },
     "metadata": {},
     "output_type": "display_data"
    }
   ],
   "source": [
    "model.eval()\n",
    "with torch.no_grad():\n",
    "    one_hot_digits = torch.tensor(\n",
    "        [\n",
    "            [0., 0., 0., 0., 0., 0., 0., 0., 0., 0.],  # No digits\n",
    "            [1., 0., 0., 0., 0., 0., 0., 0., 0., 1.],  # Combination of 1 and 9\n",
    "            [0., 0., 0., 0., 0., 0., 0., 1., 1., 1.],  # Combination of 7., 8., 9\n",
    "            [1., 1., 1., 1., 1., 1., 1., 1., 1., 1.],  # Combination of all digits\n",
    "        ],\n",
    "        device=device\n",
    "    )\n",
    "    generated_images = model(one_hot_digits)\n",
    "    \n",
    "# Move to CPU and squeeze\n",
    "generated_images = generated_images.cpu().numpy().squeeze()\n",
    "\n",
    "# Plot\n",
    "fig, axes = plt.subplots(2, 2)\n",
    "for i, img in enumerate(generated_images):\n",
    "    ax = axes[i // 2, i % 2]\n",
    "    ax.imshow(img, cmap=\"gray\")\n",
    "    ax.axis(\"off\")\n",
    "\n",
    "plt.tight_layout()\n",
    "plt.show()"
   ]
  },
  {
   "cell_type": "code",
   "execution_count": null,
   "metadata": {},
   "outputs": [],
   "source": []
  }
 ],
 "metadata": {
  "kernelspec": {
   "display_name": "venv",
   "language": "python",
   "name": "python3"
  },
  "language_info": {
   "codemirror_mode": {
    "name": "ipython",
    "version": 3
   },
   "file_extension": ".py",
   "mimetype": "text/x-python",
   "name": "python",
   "nbconvert_exporter": "python",
   "pygments_lexer": "ipython3",
   "version": "3.12.1"
  }
 },
 "nbformat": 4,
 "nbformat_minor": 2
}
